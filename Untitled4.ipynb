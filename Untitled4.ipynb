{
 "cells": [
  {
   "cell_type": "code",
   "execution_count": null,
   "metadata": {},
   "outputs": [],
   "source": []
  },
  {
   "cell_type": "code",
   "execution_count": null,
   "metadata": {},
   "outputs": [],
   "source": [
    "import pandas as pd\n",
    "import numpy as np\n",
    "import matplotlib.pyplot as plt\n",
    "from matplotlib.pyplot import savefig\n",
    "from matplotlib.backends.backend_pdf import PdfPages\n",
    "from pylab import *\n",
    "ser=np.genfromtxt(\"../Paper/4G BD Repor - 4 Feb to 6 Mar(Subreport 1).csv\", delimiter=',',dtype=float)\n",
    "fig = plt.figure()\n",
    "ax1 = fig.add_subplot(111)\n",
    "#2nd Axis\n",
    "lns1=ax1.plot(ser[:,0], ser[:,1],linewidth=2.5 , ls='solid' ,marker =\"X\", label='High MCS Pentration (%)')\n",
    "ax1.set_xlabel(\"Monitored Days\", fontsize='xx-large')\n",
    "ax1.set_ylabel(\"High MCS Pentration (%)\", fontsize='xx-large')\n",
    "plt.ylim((60,80))\n",
    "#Second Axis\n",
    "ax2 = ax1.twinx()\n",
    "lns2=ax2.plot(ser[:,0], ser[:,2],linewidth=2 , ls='solid' , color='black',\n",
    "              marker =\"o\",label='Average UL UE Throughput')\n",
    "ax2.set_ylabel('UL User Throughput (Mbps)', fontsize='xx-large')\n",
    "plt.ylim((1,2))\n",
    "# To adjust the ticks\n",
    "ax1.set_xticks(ser[:,0], minor=True)\n",
    "#Grid\n",
    "ax1.grid(True,linestyle='--',linewidth=1,which='both', alpha=0.3)\n",
    "#plt.grid(True, linestyle='--', linewidth=1, which='major', fillstyle='full')\n",
    "# Legends\n",
    "lns = lns1+lns2\n",
    "labs = [l.get_label() for l in lns]\n",
    "ax1.legend(lns, labs, loc='lower right',fontsize='x-large',framealpha=.2)\n",
    "#Title\n",
    "#plt.title(\"Uplink User Throughput Enhancement after MCS Adjustment\")\n",
    "plt.rcParams[\"figure.figsize\"] = (10,4)\n",
    "#SaveAsPDF\n",
    "savefig('PhysicalOptResult.pdf', bbox_inches='tight')\n",
    "plt.show()"
   ]
  }
 ],
 "metadata": {
  "kernelspec": {
   "display_name": "Python 3",
   "language": "python",
   "name": "python3"
  },
  "language_info": {
   "codemirror_mode": {
    "name": "ipython",
    "version": 3
   },
   "file_extension": ".py",
   "mimetype": "text/x-python",
   "name": "python",
   "nbconvert_exporter": "python",
   "pygments_lexer": "ipython3",
   "version": "3.6.4"
  }
 },
 "nbformat": 4,
 "nbformat_minor": 2
}
